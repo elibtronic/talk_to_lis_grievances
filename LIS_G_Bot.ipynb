{
  "nbformat": 4,
  "nbformat_minor": 0,
  "metadata": {
    "colab": {
      "provenance": [],
      "authorship_tag": "ABX9TyPfh6acyqDhQCCCeD9MH07h",
      "include_colab_link": true
    },
    "kernelspec": {
      "name": "python3",
      "display_name": "Python 3"
    },
    "language_info": {
      "name": "python"
    }
  },
  "cells": [
    {
      "cell_type": "markdown",
      "metadata": {
        "id": "view-in-github",
        "colab_type": "text"
      },
      "source": [
        "<a href=\"https://colab.research.google.com/github/elibtronic/talk_to_lis_grievances/blob/main/LIS_G_Bot.ipynb\" target=\"_parent\"><img src=\"https://colab.research.google.com/assets/colab-badge.svg\" alt=\"Open In Colab\"/></a>"
      ]
    },
    {
      "cell_type": "markdown",
      "source": [
        "\n",
        "# Ask @lis_grievances\n",
        "\n",
        "This bot will allow you to talk with the [@lis_grievances](https://twitter.com/lis_grievances) bot. This is built on [OpenAI](https://openai.com/) and [llama-index](https://gpt-index.readthedocs.io/en/latest/?ref=alphasec.io).\n",
        "\n",
        "## Instructions\n",
        "\n",
        "1. Sign up for an API key from [OpenAI](https://platform.openai.com/account/api-keys)\n",
        "2. Run the cells below\n",
        "\n"
      ],
      "metadata": {
        "id": "Rxhn1zuH8dar"
      }
    },
    {
      "cell_type": "code",
      "execution_count": null,
      "metadata": {
        "id": "-S5d3OPF8W3j"
      },
      "outputs": [],
      "source": [
        "#specific installs\n",
        "!pip install langchain\n",
        "!pip install llama_index\n",
        "\n",
        "#import things\n",
        "import os\n",
        "import ipywidgets as widgets\n",
        "import pandas as pd\n",
        "\n",
        "\n",
        "from langchain import OpenAI\n",
        "from IPython.display import clear_output\n",
        "from llama_index import GPTSimpleVectorIndex, SimpleDirectoryReader, LLMPredictor, PromptHelper\n",
        "\n",
        "\n",
        "#Widgets for inputs\n",
        "api_key = widgets.Text(\n",
        "    value='',\n",
        "    description='API Key',\n",
        "    disabled=False\n",
        ")\n",
        "\n",
        "set_api_key = widgets.Button(\n",
        "    description='Set API Key',\n",
        "    disabled=False,\n",
        "    tooltip='Set ',\n",
        ")\n",
        "\n",
        "success = widgets.HTML(\n",
        "    value = \"<strong>API Key set</strong>\"\n",
        ")\n",
        "\n",
        "def set_key(b):\n",
        "  OPEN_API_KEY = api_key.value\n",
        "  display(success)\n",
        "\n",
        "#Display our widgets on a clear screen\n",
        "clear_output()\n",
        "display(api_key)\n",
        "display(set_api_key)\n",
        "\n",
        "set_api_key.on_click(set_key)\n",
        "\n"
      ]
    },
    {
      "cell_type": "code",
      "source": [
        "#Setting data and building model\n",
        "warning = widgets.HTML(\n",
        "    value = \"<strong>Assembling data and building model, this might take a bit</strong>\"\n",
        ")\n",
        "\n",
        "complete = widgets.HTML(\n",
        "    value = \"<strong>All done! Please proceed</strong>\"\n",
        ")\n",
        "\n",
        "display(warning)\n",
        "!mkdir data\n",
        "data = pd.read_csv(\"https://borealisdata.ca/api/access/datafile/464022\",delimiter=\"\\t\")\n",
        "data['full_text'].to_csv('data/corpus.txt',header=None, index=None)\n",
        "os.environ['OPENAI_API_KEY']= api_key.value\n",
        "llm_predictor = LLMPredictor(llm=OpenAI(temperature=0, model_name=\"text-davinci-003\"))\n",
        "documents = SimpleDirectoryReader('data').load_data()\n",
        "index = GPTSimpleVectorIndex.from_documents(documents)\n",
        "display(complete)"
      ],
      "metadata": {
        "id": "QS_VS7voFWaG"
      },
      "execution_count": null,
      "outputs": []
    },
    {
      "cell_type": "code",
      "source": [
        "#Run to start final part\n",
        "\n",
        "query = widgets.Textarea(\n",
        "    value = \"Why you so upset?\"\n",
        "\n",
        ")\n",
        "ask_lisg = widgets.Button(\n",
        "    description = \"Say to @lis_grievances\"\n",
        ")\n",
        "\n",
        "loading = widgets.HTML(\n",
        "    value = \"<strong>Calculating...</strong>\"\n",
        ")\n",
        "\n",
        "\n",
        "def run_query(b):\n",
        "\n",
        "  display(loading)\n",
        "  response = index.query(query.value)\n",
        "\n",
        "  q_wid = widgets.HTML(\n",
        "      value = \"<strong>\"+query.value+\"</strong>\"\n",
        "  )\n",
        "  response_wid = widgets.HTML(\n",
        "    value = response.response\n",
        "  )\n",
        "  display(q_wid)\n",
        "  display(response_wid)\n",
        "\n",
        "\n",
        "display(query,ask_lisg)\n",
        "ask_lisg.on_click(run_query)\n",
        "\n"
      ],
      "metadata": {
        "id": "DtdHBeDNI7i9"
      },
      "execution_count": null,
      "outputs": []
    }
  ]
}